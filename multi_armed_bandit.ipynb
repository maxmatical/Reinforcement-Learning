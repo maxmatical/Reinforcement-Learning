{
  "nbformat": 4,
  "nbformat_minor": 0,
  "metadata": {
    "colab": {
      "name": "multi-armed bandit.ipynb",
      "version": "0.3.2",
      "provenance": [],
      "collapsed_sections": [],
      "include_colab_link": true
    },
    "kernelspec": {
      "name": "python3",
      "display_name": "Python 3"
    }
  },
  "cells": [
    {
      "cell_type": "markdown",
      "metadata": {
        "id": "view-in-github",
        "colab_type": "text"
      },
      "source": [
        "<a href=\"https://colab.research.google.com/github/maxmatical/Reinforcement-Learning/blob/master/multi_armed_bandit.ipynb\" target=\"_parent\"><img src=\"https://colab.research.google.com/assets/colab-badge.svg\" alt=\"Open In Colab\"/></a>"
      ]
    },
    {
      "metadata": {
        "id": "vwAQtsmq8QM0",
        "colab_type": "code",
        "colab": {}
      },
      "cell_type": "code",
      "source": [
        "import numpy as np\n",
        "import matplotlib.pyplot as plt\n"
      ],
      "execution_count": 0,
      "outputs": []
    },
    {
      "metadata": {
        "id": "tC4NWvJN8TrZ",
        "colab_type": "text"
      },
      "cell_type": "markdown",
      "source": [
        "multi-armed bandit problem with nonstationary rewards\n",
        "\n",
        "Design and conduct an experiment to demonstrate the\n",
        "difficulties that sample-average methods have for nonstationary problems. Use a modified\n",
        "version of the 10-armed testbed in which all the q(a) start out equal and then take\n",
        "independent random walks (say by adding a normally distributed increment with mean\n",
        "zero and standard deviation 0.01 to all the q(a) on each step). Prepare plots like\n",
        "Figure 2.2 for an action-value method using sample averages, incrementally computed,\n",
        "and another action-value method using a constant step-size parameter, alpha = 0.1. Use\n",
        "epsilon = 0.1 and longer runs, say of 10,000 steps"
      ]
    },
    {
      "metadata": {
        "id": "JGXlaFNs8BRz",
        "colab_type": "code",
        "colab": {}
      },
      "cell_type": "code",
      "source": [
        "\n",
        "n_arms = 10\n",
        "epsilon = 0.1\n",
        "alpha = 0.1\n",
        "n_epochs = 100000\n",
        "\n",
        "# start the rewards at 1\n",
        "R = [1.0]*n_arms\n",
        "\n"
      ],
      "execution_count": 0,
      "outputs": []
    },
    {
      "metadata": {
        "id": "irhkzian82aQ",
        "colab_type": "code",
        "colab": {
          "base_uri": "https://localhost:8080/",
          "height": 34
        },
        "outputId": "07f2bf1a-f2cb-4867-a0ae-705bd6dd06fd"
      },
      "cell_type": "code",
      "source": [
        "print(R)"
      ],
      "execution_count": 107,
      "outputs": [
        {
          "output_type": "stream",
          "text": [
            "[1.0, 1.0, 1.0, 1.0, 1.0, 1.0, 1.0, 1.0, 1.0, 1.0]\n"
          ],
          "name": "stdout"
        }
      ]
    },
    {
      "metadata": {
        "id": "lWswpaXcDaIk",
        "colab_type": "code",
        "colab": {
          "base_uri": "https://localhost:8080/",
          "height": 54
        },
        "outputId": "08c2c273-5d88-4077-a523-e1c0fce7242e"
      },
      "cell_type": "code",
      "source": [
        "for j in range(len(R)):\n",
        "    R[j] += np.random.normal(0, 0.01)\n",
        "    \n",
        "print(R)\n",
        "    "
      ],
      "execution_count": 108,
      "outputs": [
        {
          "output_type": "stream",
          "text": [
            "[1.010791859898607, 0.9976261984466857, 0.995320177083328, 1.0008634936887157, 1.0049654872121991, 1.0117489113328284, 1.0026072453393078, 1.0098870020014719, 0.9998984554748171, 0.9916922665109538]\n"
          ],
          "name": "stdout"
        }
      ]
    },
    {
      "metadata": {
        "id": "HJ3_m3mw9SD_",
        "colab_type": "code",
        "colab": {
          "base_uri": "https://localhost:8080/",
          "height": 34
        },
        "outputId": "4b22df6c-8e3c-4130-8880-93988593e0cf"
      },
      "cell_type": "code",
      "source": [
        "# np.random.normal(0, 1)\n",
        "# print(np.random.uniform(0,1))\n",
        "print(np.random.randint(0,10))\n"
      ],
      "execution_count": 109,
      "outputs": [
        {
          "output_type": "stream",
          "text": [
            "4\n"
          ],
          "name": "stdout"
        }
      ]
    },
    {
      "metadata": {
        "id": "_UDYkMBTCtB-",
        "colab_type": "code",
        "colab": {
          "base_uri": "https://localhost:8080/",
          "height": 34
        },
        "outputId": "b30dd803-c6f2-4ac9-b249-85a2c3e311bb"
      },
      "cell_type": "code",
      "source": [
        "l = [1,2,3]\n",
        "\n",
        "print(l.index(max(l)))"
      ],
      "execution_count": 110,
      "outputs": [
        {
          "output_type": "stream",
          "text": [
            "2\n"
          ],
          "name": "stdout"
        }
      ]
    },
    {
      "metadata": {
        "id": "orIc0roR9nD4",
        "colab_type": "text"
      },
      "cell_type": "markdown",
      "source": [
        "using sample average method $\\alpha_n(a) = \\dfrac{1}{n}$"
      ]
    },
    {
      "metadata": {
        "id": "P-f9me6f826c",
        "colab_type": "code",
        "colab": {}
      },
      "cell_type": "code",
      "source": [
        "Q_old = 0.0\n",
        "Q_new = 0.0\n",
        "expected_rewards = [0]*n_arms\n",
        "Q_SA = []\n",
        "Q_timestep = []\n",
        "for i in range(n_epochs):\n",
        "\n",
        "    # upate rewards\n",
        "    for j in range(len(R)):\n",
        "        R[j] += np.random.normal(0, 0.01)\n",
        "        \n",
        "    # generate random number for e-greedy algo\n",
        "    rand = np.random.uniform(0,1)\n",
        "    \n",
        "    # initial steps, choose 2 random arms\n",
        "    if i == 0 or i == 1:\n",
        "        choice = np.random.randint(0,10) # choose random arm\n",
        "    \n",
        "    # exploration step\n",
        "    elif rand > 1-epsilon:\n",
        "                choice = np.random.randint(0,10)\n",
        "\n",
        "    # exploitation step    \n",
        "    else: \n",
        "        # choose the arm with the highest expected reward\n",
        "        choice = expected_rewards.index(max(expected_rewards)) \n",
        "        \n",
        "        \n",
        "    expected_rewards[choice] = R[choice] # update expected rewards table\n",
        "    \n",
        "    Q_old = Q_new\n",
        "    reward = R[choice]\n",
        "    Q_new = Q_old + 1/(i+1)*(reward - Q_old)\n",
        "    Q_new_nonstationary = Q_old + alpha*(reward - Q_old)\n",
        "    Q_SA.append(Q_new)\n",
        "    Q_timestep.append(Q_new_nonstationary)"
      ],
      "execution_count": 0,
      "outputs": []
    },
    {
      "metadata": {
        "id": "atEJhuWB-q2N",
        "colab_type": "code",
        "colab": {
          "base_uri": "https://localhost:8080/",
          "height": 34
        },
        "outputId": "732b8f9a-46cb-4d80-c76a-95850f462beb"
      },
      "cell_type": "code",
      "source": [
        "print(Q_new, Q_new_nonstationary)"
      ],
      "execution_count": 118,
      "outputs": [
        {
          "output_type": "stream",
          "text": [
            "7.705368704244403 7.858473148003135\n"
          ],
          "name": "stdout"
        }
      ]
    },
    {
      "metadata": {
        "id": "m0DJpn-uGeUp",
        "colab_type": "code",
        "colab": {
          "base_uri": "https://localhost:8080/",
          "height": 364
        },
        "outputId": "fadcae79-97e8-44bb-9f43-5dbae6f02a07"
      },
      "cell_type": "code",
      "source": [
        "plt.plot(Q_SA)\n",
        "# plt.show()"
      ],
      "execution_count": 116,
      "outputs": [
        {
          "output_type": "execute_result",
          "data": {
            "text/plain": [
              "[<matplotlib.lines.Line2D at 0x7f0fe0245048>]"
            ]
          },
          "metadata": {
            "tags": []
          },
          "execution_count": 116
        },
        {
          "output_type": "display_data",
          "data": {
            "image/png": "[encoded data removed]",
            "text/plain": [
              "<Figure size 576x396 with 1 Axes>"
            ]
          },
          "metadata": {
            "tags": []
          }
        }
      ]
    },
    {
      "metadata": {
        "id": "RBo_SnTxPgXu",
        "colab_type": "code",
        "colab": {
          "base_uri": "https://localhost:8080/",
          "height": 364
        },
        "outputId": "e3a9a116-5b10-4f71-98b1-9b6896022570"
      },
      "cell_type": "code",
      "source": [
        "plt.plot(Q_timestep)\n"
      ],
      "execution_count": 117,
      "outputs": [
        {
          "output_type": "execute_result",
          "data": {
            "text/plain": [
              "[<matplotlib.lines.Line2D at 0x7f0fe011b4a8>]"
            ]
          },
          "metadata": {
            "tags": []
          },
          "execution_count": 117
        },
        {
          "output_type": "display_data",
          "data": {
            "image/png": "[encoded data removed]",
            "text/plain": [
              "<Figure size 576x396 with 1 Axes>"
            ]
          },
          "metadata": {
            "tags": []
          }
        }
      ]
    },
    {
      "metadata": {
        "id": "ufjV3iIPQDwe",
        "colab_type": "code",
        "colab": {}
      },
      "cell_type": "code",
      "source": [
        ""
      ],
      "execution_count": 0,
      "outputs": []
    }
  ]
}