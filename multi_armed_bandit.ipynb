{
  "nbformat": 4,
  "nbformat_minor": 0,
  "metadata": {
    "colab": {
      "name": "multi-armed bandit.ipynb",
      "version": "0.3.2",
      "provenance": [],
      "collapsed_sections": [],
      "include_colab_link": true
    },
    "kernelspec": {
      "name": "python3",
      "display_name": "Python 3"
    }
  },
  "cells": [
    {
      "cell_type": "markdown",
      "metadata": {
        "id": "view-in-github",
        "colab_type": "text"
      },
      "source": [
        "<a href=\"https://colab.research.google.com/github/maxmatical/Reinforcement-Learning/blob/master/multi_armed_bandit.ipynb\" target=\"_parent\"><img src=\"https://colab.research.google.com/assets/colab-badge.svg\" alt=\"Open In Colab\"/></a>"
      ]
    },
    {
      "metadata": {
        "id": "vwAQtsmq8QM0",
        "colab_type": "code",
        "colab": {}
      },
      "cell_type": "code",
      "source": [
        "import numpy as np\n",
        "import matplotlib.pyplot as plt\n"
      ],
      "execution_count": 0,
      "outputs": []
    },
    {
      "metadata": {
        "id": "tC4NWvJN8TrZ",
        "colab_type": "text"
      },
      "cell_type": "markdown",
      "source": [
        "# multi-armed bandit problem with nonstationary rewards\n",
        "\n",
        "Design and conduct an experiment to demonstrate the\n",
        "difficulties that sample-average methods have for nonstationary problems. Use a modified\n",
        "version of the 10-armed testbed in which all the q(a) start out equal and then take\n",
        "independent random walks (say by adding a normally distributed increment with mean\n",
        "zero and standard deviation 0.01 to all the q(a) on each step). Prepare plots like\n",
        "Figure 2.2 for an action-value method using sample averages, incrementally computed,\n",
        "and another action-value method using a constant step-size parameter, alpha = 0.1. Use\n",
        "epsilon = 0.1 and longer runs, say of 10,000 steps"
      ]
    },
    {
      "metadata": {
        "id": "JGXlaFNs8BRz",
        "colab_type": "code",
        "colab": {}
      },
      "cell_type": "code",
      "source": [
        "\n",
        "n_arms = 10\n",
        "epsilon = 0.1\n",
        "alpha = 0.1\n",
        "n_epochs = 10000\n",
        "# start the rewards at 1\n",
        "R = [1.0]*n_arms\n",
        "\n"
      ],
      "execution_count": 0,
      "outputs": []
    },
    {
      "metadata": {
        "id": "irhkzian82aQ",
        "colab_type": "code",
        "outputId": "92e555be-3506-49a2-adb1-c028123121b8",
        "colab": {
          "base_uri": "https://localhost:8080/",
          "height": 34
        }
      },
      "cell_type": "code",
      "source": [
        "print(R)"
      ],
      "execution_count": 0,
      "outputs": [
        {
          "output_type": "stream",
          "text": [
            "[1.0, 1.0, 1.0, 1.0, 1.0, 1.0, 1.0, 1.0, 1.0, 1.0]\n"
          ],
          "name": "stdout"
        }
      ]
    },
    {
      "metadata": {
        "id": "lWswpaXcDaIk",
        "colab_type": "code",
        "outputId": "4c56a1cb-ee8b-4359-caff-2c65fa24dd96",
        "colab": {
          "base_uri": "https://localhost:8080/",
          "height": 54
        }
      },
      "cell_type": "code",
      "source": [
        "for j in range(len(R)):\n",
        "    R[j] += np.random.normal(0, 0.01)\n",
        "    \n",
        "print(R)\n",
        "    "
      ],
      "execution_count": 0,
      "outputs": [
        {
          "output_type": "stream",
          "text": [
            "[1.009215417128098, 1.0205192796731466, 1.0106772843022112, 0.9871947906283138, 1.0031243423239524, 0.9952015206803954, 1.0067900269504941, 0.9977226295528605, 1.0155320425091054, 1.0061549316535907]\n"
          ],
          "name": "stdout"
        }
      ]
    },
    {
      "metadata": {
        "id": "HJ3_m3mw9SD_",
        "colab_type": "code",
        "outputId": "38040473-311b-46b8-f424-a249f7ee56fe",
        "colab": {
          "base_uri": "https://localhost:8080/",
          "height": 34
        }
      },
      "cell_type": "code",
      "source": [
        "# np.random.normal(0, 1)\n",
        "# print(np.random.uniform(0,1))\n",
        "# print(np.random.randint(0,10))\n"
      ],
      "execution_count": 0,
      "outputs": [
        {
          "output_type": "stream",
          "text": [
            "9\n"
          ],
          "name": "stdout"
        }
      ]
    },
    {
      "metadata": {
        "id": "orIc0roR9nD4",
        "colab_type": "text"
      },
      "cell_type": "markdown",
      "source": [
        "using sample average method $\\alpha_n(a) = \\dfrac{1}{n}$"
      ]
    },
    {
      "metadata": {
        "id": "P-f9me6f826c",
        "colab_type": "code",
        "colab": {}
      },
      "cell_type": "code",
      "source": [
        "Q_old = 0\n",
        "Q_new = 0\n",
        "expected_rewards = [Q_old]*n_arms\n",
        "Q_SA = []\n",
        "Q_timestep = []\n",
        "correct_choice = [] #keeping track of the ground truth of max value \n",
        "actions = [] # keeping track of our actions\n",
        "for i in range(n_epochs):\n",
        "\n",
        "    # upate rewards\n",
        "    for j in range(len(R)):\n",
        "        R[j] += np.random.normal(0, 0.01)\n",
        "        \n",
        "    # generate random number for e-greedy algo\n",
        "    rand = np.random.uniform(0,1)\n",
        "    \n",
        "    # initial steps, choose 2 random arms\n",
        "    if i == 0 or i == 1:\n",
        "        choice = np.random.randint(0,10) # choose random arm\n",
        "    \n",
        "    # exploration step\n",
        "    elif rand > 1-epsilon:\n",
        "                choice = np.random.randint(0,10)\n",
        "\n",
        "    # exploitation step    \n",
        "    else: \n",
        "        # choose the arm with the highest expected reward\n",
        "        choice = expected_rewards.index(max(expected_rewards)) \n",
        "        \n",
        "    # updating values    \n",
        "    Q_old = Q_new\n",
        "    reward = R[choice]\n",
        "    Q_new = Q_old + 1/(i+1)*(reward - Q_old)\n",
        "#     Q_new_nonstationary = Q_old + alpha*(reward - Q_old)\n",
        "    expected_rewards[choice] = Q_new # update expected rewards table with new Q values\n",
        "\n",
        "    Q_SA.append(Q_new)\n",
        "#     Q_timestep.append(Q_new_nonstationary)\n",
        "\n",
        "    # getting the correct choice to evaluate our actions\n",
        "    correct_choice.append(R.index(max(R)))\n",
        "    actions.append(choice)"
      ],
      "execution_count": 0,
      "outputs": []
    },
    {
      "metadata": {
        "id": "obwmV99tIUH_",
        "colab_type": "code",
        "colab": {}
      },
      "cell_type": "code",
      "source": [
        "def evaluate_actions(actions, correct_choice):\n",
        "    pct_correct = []\n",
        "    n_correct = 0\n",
        "    for i in range(len(actions)):\n",
        "        if actions[i] == correct_choice[i]:\n",
        "            n_correct+=1\n",
        "            pct_correct.append(n_correct/(i+1))\n",
        "    return pct_correct"
      ],
      "execution_count": 0,
      "outputs": []
    },
    {
      "metadata": {
        "id": "2-kUw085I4DA",
        "colab_type": "code",
        "colab": {}
      },
      "cell_type": "code",
      "source": [
        "evaluation = evaluate_actions(actions, correct_choice)\n",
        "plt.plot(evaluation)"
      ],
      "execution_count": 0,
      "outputs": []
    },
    {
      "metadata": {
        "id": "-Ryg47SrJID_",
        "colab_type": "code",
        "colab": {
          "base_uri": "https://localhost:8080/",
          "height": 364
        },
        "outputId": "ce97e286-8c3b-48bc-ad56-d2b70b8db44c"
      },
      "cell_type": "code",
      "source": [
        "plt.plot(evaluation)\n"
      ],
      "execution_count": 40,
      "outputs": [
        {
          "output_type": "execute_result",
          "data": {
            "text/plain": [
              "[<matplotlib.lines.Line2D at 0x7f5c89dab0b8>]"
            ]
          },
          "metadata": {
            "tags": []
          },
          "execution_count": 40
        },
        {
          "output_type": "display_data",
          "data": {
            "image/png": "[encoded data removed]",
            "text/plain": [
              "<Figure size 576x396 with 1 Axes>"
            ]
          },
          "metadata": {
            "tags": []
          }
        }
      ]
    },
    {
      "metadata": {
        "colab_type": "text",
        "id": "avaGoHBKE2wU"
      },
      "cell_type": "markdown",
      "source": [
        "using constant timestep method $\\alpha_n(a) = 0.1$"
      ]
    },
    {
      "metadata": {
        "colab_type": "code",
        "id": "YXdvgf7HE2wV",
        "colab": {}
      },
      "cell_type": "code",
      "source": [
        "n_arms = 10\n",
        "epsilon = 0.1\n",
        "alpha = 0.1\n",
        "n_epochs = 10000\n",
        "# start the rewards at 1\n",
        "R = [1.0]*n_arms\n",
        "\n",
        "Q_old = 0\n",
        "Q_new = 0\n",
        "expected_rewards = [Q_old]*n_arms\n",
        "Q_SA = []\n",
        "Q_timestep = []\n",
        "correct_choice = [] #keeping track of the ground truth of max value \n",
        "actions = [] # keeping track of our actions\n",
        "for i in range(n_epochs):\n",
        "\n",
        "    # upate rewards\n",
        "    for j in range(len(R)):\n",
        "        R[j] += np.random.normal(0, 0.01)\n",
        "        \n",
        "    # generate random number for e-greedy algo\n",
        "    rand = np.random.uniform(0,1)\n",
        "    \n",
        "    # initial steps, choose 2 random arms\n",
        "    if i == 0 or i == 1:\n",
        "        choice = np.random.randint(0,10) # choose random arm\n",
        "    \n",
        "    # exploration step\n",
        "    elif rand > 1-epsilon:\n",
        "        choice = np.random.randint(0,10)\n",
        "\n",
        "    # exploitation step    \n",
        "    else: \n",
        "        # choose the arm with the highest expected reward\n",
        "        choice = expected_rewards.index(max(expected_rewards)) \n",
        "        \n",
        "    # updating values    \n",
        "    Q_old = Q_new\n",
        "    reward = R[choice]\n",
        "#     Q_new = Q_old + 1/(i+1)*(reward - Q_old)\n",
        "    Q_new = Q_old + alpha*(reward - Q_old)\n",
        "    expected_rewards[choice] = Q_new # update expected rewards table with new Q values\n",
        "\n",
        "    Q_SA.append(Q_new)\n",
        "    \n",
        "    # getting the correct choice to evaluate our actions\n",
        "    correct_choice.append(R.index(max(R)))\n",
        "    actions.append(choice)\n"
      ],
      "execution_count": 0,
      "outputs": []
    },
    {
      "metadata": {
        "colab_type": "code",
        "outputId": "74a3cdbc-5cd7-4a88-e899-b12dbadab83a",
        "id": "49PFHhmcE2wY",
        "colab": {
          "base_uri": "https://localhost:8080/",
          "height": 34
        }
      },
      "cell_type": "code",
      "source": [
        "print(Q_new)"
      ],
      "execution_count": 52,
      "outputs": [
        {
          "output_type": "stream",
          "text": [
            "2.9265984604519115\n"
          ],
          "name": "stdout"
        }
      ]
    },
    {
      "metadata": {
        "colab_type": "code",
        "outputId": "68658326-2feb-44a1-f5b7-d9121cbb2b20",
        "id": "8fS9VyZjE2wc",
        "colab": {
          "base_uri": "https://localhost:8080/",
          "height": 364
        }
      },
      "cell_type": "code",
      "source": [
        "plt.plot(Q_SA)\n",
        "# plt.show()"
      ],
      "execution_count": 53,
      "outputs": [
        {
          "output_type": "execute_result",
          "data": {
            "text/plain": [
              "[<matplotlib.lines.Line2D at 0x7f5c89bcee48>]"
            ]
          },
          "metadata": {
            "tags": []
          },
          "execution_count": 53
        },
        {
          "output_type": "display_data",
          "data": {
            "image/png": "[encoded data removed]",
            "text/plain": [
              "<Figure size 576x396 with 1 Axes>"
            ]
          },
          "metadata": {
            "tags": []
          }
        }
      ]
    },
    {
      "metadata": {
        "id": "uJPXxfGcJUva",
        "colab_type": "code",
        "colab": {
          "base_uri": "https://localhost:8080/",
          "height": 364
        },
        "outputId": "37a23277-9563-4f43-82fb-573aab58a576"
      },
      "cell_type": "code",
      "source": [
        "evaluation = evaluate_actions(actions, correct_choice)\n",
        "plt.plot(evaluation)"
      ],
      "execution_count": 54,
      "outputs": [
        {
          "output_type": "execute_result",
          "data": {
            "text/plain": [
              "[<matplotlib.lines.Line2D at 0x7f5c89b4af60>]"
            ]
          },
          "metadata": {
            "tags": []
          },
          "execution_count": 54
        },
        {
          "output_type": "display_data",
          "data": {
            "image/png": "[encoded data removed]",
            "text/plain": [
              "<Figure size 576x396 with 1 Axes>"
            ]
          },
          "metadata": {
            "tags": []
          }
        }
      ]
    },
    {
      "metadata": {
        "id": "pxfSZCfSfrRH",
        "colab_type": "text"
      },
      "cell_type": "markdown",
      "source": [
        "Exploring with optimistic $Q_0 = 5$\n",
        "\n",
        "When $Q_0 = 5 > R_1$, $Q_1$ becomes $Q_0+\\alpha(R_0-Q_0) < Q_0$ which encourages more exploration\n",
        "\n",
        "We need to initialize initial rewards table with $Q_0$ \n",
        "\n"
      ]
    },
    {
      "metadata": {
        "id": "ufjV3iIPQDwe",
        "colab_type": "code",
        "colab": {}
      },
      "cell_type": "code",
      "source": [
        "n_arms = 10\n",
        "alpha = 0.1\n",
        "n_epochs = 10000\n",
        "# start the rewards at 1\n",
        "R = [1.0]*n_arms\n",
        "\n",
        "\n",
        "# greedy method eps = 0\n",
        "# epsilon = 0\n",
        "\n",
        "# epsilong greedy method \n",
        "epsilon = 0.1 \n",
        "\n",
        "Q_old = 5\n",
        "Q_new = 0\n",
        "expected_rewards = [Q_old]*n_arms\n",
        "Q_SA = []\n",
        "Q_timestep = []\n",
        "correct_choice = [] #keeping track of the ground truth of max value \n",
        "actions = [] # keeping track of our actions\n",
        "for i in range(n_epochs):\n",
        "    \n",
        "    \n",
        "\n",
        "    # upate rewards\n",
        "    for j in range(len(R)):\n",
        "        R[j] += np.random.normal(0, 0.01)\n",
        "        \n",
        "    # generate random number for e-greedy algo\n",
        "    rand = np.random.uniform(0,1)\n",
        "    \n",
        "    # initial steps, choose 2 random arms\n",
        "    if i == 0 or i == 1:\n",
        "        choice = np.random.randint(0,10) # choose random arm\n",
        "    \n",
        "    # exploration step\n",
        "    elif rand > 1-epsilon:\n",
        "        choice = np.random.randint(0,10)\n",
        "\n",
        "    # exploitation step    \n",
        "    else: \n",
        "        # choose the arm with the highest expected reward\n",
        "        choice = expected_rewards.index(max(expected_rewards)) \n",
        "        \n",
        "    # updating values    \n",
        "    Q_old = Q_new\n",
        "    reward = R[choice]\n",
        "#     Q_new = Q_old + 1/(i+1)*(reward - Q_old)\n",
        "    Q_new = Q_old + alpha*(reward - Q_old)\n",
        "    expected_rewards[choice] = Q_new # update expected rewards table with new Q values\n",
        "\n",
        "    Q_SA.append(Q_new)\n",
        "    \n",
        "    # getting the correct choice to evaluate our actions\n",
        "    correct_choice.append(R.index(max(R)))\n",
        "    actions.append(choice)\n"
      ],
      "execution_count": 0,
      "outputs": []
    },
    {
      "metadata": {
        "id": "NBMOUAMRfvjw",
        "colab_type": "code",
        "colab": {
          "base_uri": "https://localhost:8080/",
          "height": 364
        },
        "outputId": "d0b183ad-9469-4ea3-83bf-c13547e1d852"
      },
      "cell_type": "code",
      "source": [
        "evaluation = evaluate_actions(actions, correct_choice)\n",
        "plt.plot(evaluation)"
      ],
      "execution_count": 65,
      "outputs": [
        {
          "output_type": "execute_result",
          "data": {
            "text/plain": [
              "[<matplotlib.lines.Line2D at 0x7f5c89993710>]"
            ]
          },
          "metadata": {
            "tags": []
          },
          "execution_count": 65
        },
        {
          "output_type": "display_data",
          "data": {
            "image/png": "[encoded data removed]",
            "text/plain": [
              "<Figure size 576x396 with 1 Axes>"
            ]
          },
          "metadata": {
            "tags": []
          }
        }
      ]
    },
    {
      "metadata": {
        "id": "jtabGxYJJhIw",
        "colab_type": "code",
        "colab": {}
      },
      "cell_type": "code",
      "source": [
        ""
      ],
      "execution_count": 0,
      "outputs": []
    }
  ]
}