{
  "nbformat": 4,
  "nbformat_minor": 0,
  "metadata": {
    "colab": {
      "name": "DQN - Cartpole.ipynb",
      "version": "0.3.2",
      "provenance": [],
      "collapsed_sections": [],
      "include_colab_link": true
    },
    "kernelspec": {
      "name": "python3",
      "display_name": "Python 3"
    },
    "accelerator": "GPU"
  },
  "cells": [
    {
      "cell_type": "markdown",
      "metadata": {
        "id": "view-in-github",
        "colab_type": "text"
      },
      "source": [
        "<a href=\"https://colab.research.google.com/github/maxmatical/Reinforcement-Learning/blob/master/DQN_Cartpole.ipynb\" target=\"_parent\"><img src=\"https://colab.research.google.com/assets/colab-badge.svg\" alt=\"Open In Colab\"/></a>"
      ]
    },
    {
      "cell_type": "markdown",
      "metadata": {
        "id": "vZ3n0OeNH1P0",
        "colab_type": "text"
      },
      "source": [
        "https://pytorch.org/tutorials/intermediate/reinforcement_q_learning.html"
      ]
    },
    {
      "cell_type": "code",
      "metadata": {
        "id": "_zqgJDg-GJHZ",
        "colab_type": "code",
        "colab": {
          "base_uri": "https://localhost:8080/",
          "height": 679
        },
        "outputId": "06e8ccbf-886a-4f5d-daaf-fce90ebb61ef"
      },
      "source": [
        "!pip install gym\n",
        "!apt-get install python-opengl -y\n",
        "!apt install xvfb -y\n",
        "!pip install pyvirtualdisplay\n",
        "!pip install piglet\n",
        "\n",
        "from pyvirtualdisplay import Display\n",
        "display = Display(visible=0, size=(1400, 900))\n",
        "display.start()"
      ],
      "execution_count": 1,
      "outputs": [
        {
          "output_type": "stream",
          "text": [
            "Requirement already satisfied: gym in /usr/local/lib/python3.6/dist-packages (0.10.11)\n",
            "Requirement already satisfied: scipy in /usr/local/lib/python3.6/dist-packages (from gym) (1.2.1)\n",
            "Requirement already satisfied: six in /usr/local/lib/python3.6/dist-packages (from gym) (1.12.0)\n",
            "Requirement already satisfied: requests>=2.0 in /usr/local/lib/python3.6/dist-packages (from gym) (2.21.0)\n",
            "Requirement already satisfied: numpy>=1.10.4 in /usr/local/lib/python3.6/dist-packages (from gym) (1.16.3)\n",
            "Requirement already satisfied: pyglet>=1.2.0 in /usr/local/lib/python3.6/dist-packages (from gym) (1.3.2)\n",
            "Requirement already satisfied: chardet<3.1.0,>=3.0.2 in /usr/local/lib/python3.6/dist-packages (from requests>=2.0->gym) (3.0.4)\n",
            "Requirement already satisfied: certifi>=2017.4.17 in /usr/local/lib/python3.6/dist-packages (from requests>=2.0->gym) (2019.3.9)\n",
            "Requirement already satisfied: idna<2.9,>=2.5 in /usr/local/lib/python3.6/dist-packages (from requests>=2.0->gym) (2.8)\n",
            "Requirement already satisfied: urllib3<1.25,>=1.21.1 in /usr/local/lib/python3.6/dist-packages (from requests>=2.0->gym) (1.24.3)\n",
            "Requirement already satisfied: future in /usr/local/lib/python3.6/dist-packages (from pyglet>=1.2.0->gym) (0.16.0)\n",
            "Reading package lists... Done\n",
            "Building dependency tree       \n",
            "Reading state information... Done\n",
            "python-opengl is already the newest version (3.1.0+dfsg-1).\n",
            "The following package was automatically installed and is no longer required:\n",
            "  libnvidia-common-410\n",
            "Use 'apt autoremove' to remove it.\n",
            "0 upgraded, 0 newly installed, 0 to remove and 16 not upgraded.\n",
            "Reading package lists... Done\n",
            "Building dependency tree       \n",
            "Reading state information... Done\n",
            "xvfb is already the newest version (2:1.19.6-1ubuntu4.2).\n",
            "The following package was automatically installed and is no longer required:\n",
            "  libnvidia-common-410\n",
            "Use 'apt autoremove' to remove it.\n",
            "0 upgraded, 0 newly installed, 0 to remove and 16 not upgraded.\n",
            "Requirement already satisfied: pyvirtualdisplay in /usr/local/lib/python3.6/dist-packages (0.2.1)\n",
            "Requirement already satisfied: EasyProcess in /usr/local/lib/python3.6/dist-packages (from pyvirtualdisplay) (0.2.5)\n",
            "Requirement already satisfied: piglet in /usr/local/lib/python3.6/dist-packages (0.4.4)\n",
            "Requirement already satisfied: markupsafe in /usr/local/lib/python3.6/dist-packages (from piglet) (1.1.1)\n",
            "Requirement already satisfied: astunparse in /usr/local/lib/python3.6/dist-packages (from piglet) (1.6.2)\n",
            "Requirement already satisfied: attrs in /usr/local/lib/python3.6/dist-packages (from piglet) (19.1.0)\n",
            "Requirement already satisfied: Parsley in /usr/local/lib/python3.6/dist-packages (from piglet) (1.3)\n",
            "Requirement already satisfied: wheel<1.0,>=0.23.0 in /usr/local/lib/python3.6/dist-packages (from astunparse->piglet) (0.33.2)\n",
            "Requirement already satisfied: six<2.0,>=1.6.1 in /usr/local/lib/python3.6/dist-packages (from astunparse->piglet) (1.12.0)\n"
          ],
          "name": "stdout"
        },
        {
          "output_type": "execute_result",
          "data": {
            "text/plain": [
              "<Display cmd_param=['Xvfb', '-br', '-nolisten', 'tcp', '-screen', '0', '1400x900x24', ':1001'] cmd=['Xvfb', '-br', '-nolisten', 'tcp', '-screen', '0', '1400x900x24', ':1001'] oserror=None return_code=None stdout=\"None\" stderr=\"None\" timeout_happened=False>"
            ]
          },
          "metadata": {
            "tags": []
          },
          "execution_count": 1
        }
      ]
    },
    {
      "cell_type": "code",
      "metadata": {
        "id": "Pw_0jk-XGNPr",
        "colab_type": "code",
        "colab": {
          "base_uri": "https://localhost:8080/",
          "height": 52
        },
        "outputId": "d5a0f42d-367c-48c3-85c4-b4ce5d536104"
      },
      "source": [
        "import gym\n",
        "import math\n",
        "import random\n",
        "import numpy as np\n",
        "import matplotlib\n",
        "import matplotlib.pyplot as plt\n",
        "from collections import namedtuple\n",
        "from itertools import count\n",
        "from PIL import Image\n",
        "\n",
        "import torch\n",
        "import torch.nn as nn\n",
        "import torch.optim as optim\n",
        "import torch.nn.functional as F\n",
        "import torchvision.transforms as T\n",
        "\n",
        "\n",
        "env = gym.make('CartPole-v0').unwrapped\n",
        "\n",
        "# set up matplotlib\n",
        "is_ipython = 'inline' in matplotlib.get_backend()\n",
        "if is_ipython:\n",
        "    from IPython import display\n",
        "\n",
        "plt.ion()\n",
        "# plt.imshow(env.render('rgb_array'))\n",
        "print(\"Observation space:\", env.observation_space.shape)\n",
        "print(\"Action space:\", env.action_space)"
      ],
      "execution_count": 2,
      "outputs": [
        {
          "output_type": "stream",
          "text": [
            "Observation space: (4,)\n",
            "Action space: Discrete(2)\n"
          ],
          "name": "stdout"
        }
      ]
    },
    {
      "cell_type": "code",
      "metadata": {
        "id": "ZYBusu7hGVRE",
        "colab_type": "code",
        "colab": {}
      },
      "source": [
        "device = torch.device(\"cuda\" if torch.cuda.is_available() else \"cpu\")\n"
      ],
      "execution_count": 0,
      "outputs": []
    },
    {
      "cell_type": "markdown",
      "metadata": {
        "id": "TBT7yEeiHvH2",
        "colab_type": "text"
      },
      "source": [
        "#Experience Replay"
      ]
    },
    {
      "cell_type": "code",
      "metadata": {
        "id": "PO5dII41GhRN",
        "colab_type": "code",
        "colab": {}
      },
      "source": [
        "Transition = namedtuple('Transition', ('state', 'action', 'next_state', 'reward'))\n",
        "\n",
        "class ReplayMemory(object):\n",
        "    def __init__(self, capacity):\n",
        "        self.capacity = capacity\n",
        "        self.memory = []\n",
        "        self.position = 0\n",
        "    \n",
        "    def push(self, *args):\n",
        "        \"\"\"\n",
        "        \n",
        "        Adds a tuple of (s, a, s', r) to memory for experience replay \n",
        "        \n",
        "        \"\"\"\n",
        "        if len(self.memory) < self.capacity:\n",
        "            self.memory.append(None) # appends memory with 'None' to get [None, None, ...]\n",
        "        self.memory[self.position] = Transition(*args)\n",
        "        self.position = (self.position+1)%self.capacity\n",
        "\n",
        "    def sample(self, bs):\n",
        "        \n",
        "        \"\"\"samples from memory\"\"\"\n",
        "        \n",
        "        return random.sample(self.memory, bs)\n",
        "    \n",
        "    def __len__(self):\n",
        "        return len(self.memory)"
      ],
      "execution_count": 0,
      "outputs": []
    },
    {
      "cell_type": "markdown",
      "metadata": {
        "id": "tlWBFLUTKdLj",
        "colab_type": "text"
      },
      "source": [
        "# Deep Q networks"
      ]
    },
    {
      "cell_type": "code",
      "metadata": {
        "id": "562HWnMQIvJt",
        "colab_type": "code",
        "colab": {}
      },
      "source": [
        "class DQN(nn.Module):\n",
        "    def __init__(self, input_shape, n_actions):\n",
        "        \"\"\"\n",
        "        \n",
        "        input shape should be (n_channels x h x w)\n",
        "        \n",
        "        \"\"\"\n",
        "        super(DQN, self).__init__()\n",
        "        self.n_actions = n_actions\n",
        "        self.input_shape = input_shape\n",
        "        \n",
        "        \n",
        "        self.conv1 = nn.Conv2d(3, 16, kernel_size = 5, stride = 2)\n",
        "        self.bn1 = nn.BatchNorm2d(16)\n",
        "        self.conv2 = nn.Conv2d(16, 32, kernel_size = 5, stride = 2)\n",
        "        self.bn2 = nn.BatchNorm2d(32)\n",
        "        self.conv3 = nn.Conv2d(32, 32, kernel_size = 5, stride = 2)\n",
        "        self.bn3 = nn.BatchNorm2d(32)\n",
        "        self.linear = nn.Linear(self.feature_size(), n_actions)\n",
        "        \n",
        "    def forward(self, input):\n",
        "        out = F.relu(self.bn1(self.conv1(input)))\n",
        "        out = F.relu(self.bn2(self.conv2(out)))\n",
        "        out = F.relu(self.bn3(self.conv3(out)))\n",
        "        out = out.view(out.size(0), -1)\n",
        "        out = self.linear(out)\n",
        "        return out\n",
        "    \n",
        "        \n",
        "    def feature_size(self):\n",
        "        return self.conv3(self.conv2(self.conv1(torch.zeros(1, *self.input_shape)))).view(1, -1).size(1)\n",
        "        \n",
        "        "
      ],
      "execution_count": 0,
      "outputs": []
    },
    {
      "cell_type": "code",
      "metadata": {
        "id": "7kalBxqYL8hO",
        "colab_type": "code",
        "colab": {
          "base_uri": "https://localhost:8080/",
          "height": 35
        },
        "outputId": "3ee8dfd6-58ec-455a-e104-18c5ba44be68"
      },
      "source": [
        "# Test to see if implemented correctly\n",
        "\n",
        "tmp = torch.randn((16, 3, 32, 32)).to(device)\n",
        "a = DQN((3, 32, 32), 2).to(device)\n",
        "print(a(tmp).shape)\n"
      ],
      "execution_count": 6,
      "outputs": [
        {
          "output_type": "stream",
          "text": [
            "torch.Size([16, 2])\n"
          ],
          "name": "stdout"
        }
      ]
    },
    {
      "cell_type": "markdown",
      "metadata": {
        "id": "bDWWeUlTN_NG",
        "colab_type": "text"
      },
      "source": [
        "# Input Extraction"
      ]
    },
    {
      "cell_type": "code",
      "metadata": {
        "id": "Lf2SWNOoMFQP",
        "colab_type": "code",
        "colab": {
          "base_uri": "https://localhost:8080/",
          "height": 213
        },
        "outputId": "b627bc88-a23b-4261-a946-715262c00157"
      },
      "source": [
        "resize = T.Compose([T.ToPILImage(),\n",
        "                    T.Resize(40, interpolation=Image.CUBIC),\n",
        "                    T.ToTensor()])\n",
        "\n",
        "\n",
        "def get_cart_location(screen_width):\n",
        "    world_width = env.x_threshold * 2\n",
        "    scale = screen_width / world_width\n",
        "    return int(env.state[0] * scale + screen_width / 2.0)  # MIDDLE OF CART\n",
        "\n",
        "def get_screen():\n",
        "    # Returned screen requested by gym is 400x600x3, but is sometimes larger\n",
        "    # such as 800x1200x3. Transpose it into torch order (CHW).\n",
        "    screen = env.render(mode='rgb_array').transpose((2, 0, 1))\n",
        "    # Cart is in the lower half, so strip off the top and bottom of the screen\n",
        "    _, screen_height, screen_width = screen.shape\n",
        "    screen = screen[:, int(screen_height*0.4):int(screen_height * 0.8)]\n",
        "    view_width = int(screen_width * 0.6)\n",
        "    cart_location = get_cart_location(screen_width)\n",
        "    if cart_location < view_width // 2:\n",
        "        slice_range = slice(view_width)\n",
        "    elif cart_location > (screen_width - view_width // 2):\n",
        "        slice_range = slice(-view_width, None)\n",
        "    else:\n",
        "        slice_range = slice(cart_location - view_width // 2,\n",
        "                            cart_location + view_width // 2)\n",
        "    # Strip off the edges, so that we have a square image centered on a cart\n",
        "    screen = screen[:, :, slice_range]\n",
        "    # Convert to float, rescale, convert to torch tensor\n",
        "    # (this doesn't require a copy)\n",
        "    screen = np.ascontiguousarray(screen, dtype=np.float32) / 255\n",
        "    screen = torch.from_numpy(screen)\n",
        "    # Resize, and add a batch dimension (BCHW)\n",
        "    #print(screen.shape)\n",
        "    return resize(screen).unsqueeze(0).to(device)\n",
        "\n",
        "\n",
        "env.reset()\n",
        "plt.figure()\n",
        "plt.imshow(get_screen().cpu().squeeze(0).permute(1, 2, 0).numpy(),\n",
        "           interpolation='none')\n",
        "plt.title('Example extracted screen')\n",
        "plt.show()\n"
      ],
      "execution_count": 7,
      "outputs": [
        {
          "output_type": "display_data",
          "data": {
            "image/png": "[encoded data removed]",
            "text/plain": [
              "<Figure size 432x288 with 1 Axes>"
            ]
          },
          "metadata": {
            "tags": []
          }
        }
      ]
    },
    {
      "cell_type": "markdown",
      "metadata": {
        "id": "7Yy-oWfwOfdM",
        "colab_type": "text"
      },
      "source": [
        "# Setting up training\n",
        "\n",
        "- Initialize hyperparameters\n",
        "- Create models\n",
        "- Define utility functions"
      ]
    },
    {
      "cell_type": "code",
      "metadata": {
        "id": "H-Onm5I7OCRZ",
        "colab_type": "code",
        "colab": {
          "base_uri": "https://localhost:8080/",
          "height": 52
        },
        "outputId": "84d74c1d-33d8-4e1d-cea4-26a050b223a5"
      },
      "source": [
        "# Setting hyperparameters for the model\n",
        "\n",
        "BATCH_SIZE = 128\n",
        "GAMMA = 0.999\n",
        "EPS_START = 0.9\n",
        "EPS_END = 0.05\n",
        "EPS_DECAY = 200\n",
        "TARGET_UPDATE = 10\n",
        "\n",
        "# Get screen size so that we can initialize layers correctly based on shape\n",
        "# returned from AI gym. Typical dimensions at this point are close to 3x40x90\n",
        "# which is the result of a clamped and down-scaled render buffer in get_screen()\n",
        "init_screen = get_screen()\n",
        "\n",
        "_, n_channels, screen_height, screen_width = init_screen.shape\n",
        "\n",
        "print('Input shape is', (n_channels, screen_height, screen_width))\n",
        "\n",
        "n_actions = env.action_space.n\n",
        "print('number of outputs is', n_actions)\n"
      ],
      "execution_count": 8,
      "outputs": [
        {
          "output_type": "stream",
          "text": [
            "Input shape is (3, 40, 90)\n",
            "number of outputs is 2\n"
          ],
          "name": "stdout"
        }
      ]
    },
    {
      "cell_type": "code",
      "metadata": {
        "id": "2gFQltkJOilI",
        "colab_type": "code",
        "colab": {}
      },
      "source": [
        "# Defining our policy and target Q networks\n",
        "# Policy_net is updated every step\n",
        "# Target_net is updated every n steps\n",
        "\n",
        "policy_net = DQN((n_channels, screen_height, screen_width), n_actions).to(device)\n",
        "target_net = DQN((n_channels, screen_height, screen_width), n_actions).to(device)\n",
        "target_net.load_state_dict(policy_net.state_dict())\n",
        "target_net.eval()\n",
        "\n",
        "optimizer = optim.Adam(policy_net.parameters(), lr = 3e-4)\n",
        "\n",
        "memory = ReplayMemory(capacity=10000)\n",
        "\n",
        "steps_done = 0\n",
        "\n",
        "def select_action(state):\n",
        "    \"\"\"\n",
        "    \n",
        "    selects an action based on e-greedy\n",
        "    \n",
        "    \"\"\"\n",
        "    \n",
        "    global steps_done\n",
        "    sample = random.random() #samples from uniform[0,1]\n",
        "    current_eps = EPS_END + (EPS_START - EPS_END) * \\\n",
        "        math.exp(-1. * steps_done / EPS_DECAY) #decay epsilon\n",
        "    steps_done += 1\n",
        "    if sample > current_eps:\n",
        "        with torch.no_grad():\n",
        "        # t.max(1) will return largest column value of each row.\n",
        "        # second column on max result is index of where max element was found,\n",
        "        # so we pick action with the larger expected reward.\n",
        "            return policy_net(state).max(1)[1].view(1, 1)\n",
        "    \n",
        "    else: \n",
        "        return torch.tensor([[random.randrange(n_actions)]], \\\n",
        "                            device=device, dtype=torch.long) # returns random action\n",
        "    \n",
        "episode_durations = []\n",
        "\n",
        "def plot_durations():\n",
        "    plt.figure(2)\n",
        "    plt.clf()\n",
        "    durations_t = torch.tensor(episode_durations, dtype=torch.float)\n",
        "    plt.title('Training...')\n",
        "    plt.xlabel('Episode')\n",
        "    plt.ylabel('Duration')\n",
        "    plt.plot(durations_t.numpy())\n",
        "    # Take 100 episode averages and plot them too\n",
        "    if len(durations_t) >= 100:\n",
        "        means = durations_t.unfold(0, 100, 1).mean(1).view(-1)\n",
        "        means = torch.cat((torch.zeros(99), means))\n",
        "        plt.plot(means.numpy())\n",
        "\n",
        "    plt.pause(0.001)  # pause a bit so that plots are updated\n",
        "    if is_ipython:\n",
        "        display.clear_output(wait=True)\n",
        "        display.display(plt.gcf())\n"
      ],
      "execution_count": 0,
      "outputs": []
    },
    {
      "cell_type": "markdown",
      "metadata": {
        "id": "JXmIAWEmR4GK",
        "colab_type": "text"
      },
      "source": [
        "# Training Agent"
      ]
    },
    {
      "cell_type": "code",
      "metadata": {
        "id": "2VGt012CPfrh",
        "colab_type": "code",
        "colab": {}
      },
      "source": [
        "def optimize_model():\n",
        "    if len(memory) < BATCH_SIZE:\n",
        "        return \n",
        "    transitions = memory.sample(BATCH_SIZE)\n",
        "    # Transpose the batch (see https://stackoverflow.com/a/19343/3343043 for\n",
        "    # detailed explanation). This converts batch-array of Transitions\n",
        "    # to Transition of batch-arrays.\n",
        "    batch = Transition(*zip(*transitions))\n",
        "    \n",
        "    # Compute a mask of non-terminal states and concatenate the batch elements\n",
        "    non_final_mask = torch.tensor(tuple(map(lambda s: s is not None, batch.next_state)), device = device, dtype=torch.uint8)\n",
        "    \n",
        "    non_final_next_states = torch.cat([s for s in batch.next_state if s is not None]) # list of non-final next states\n",
        "\n",
        "    state_batch = torch.cat(batch.state) # list of states in the batch\n",
        "    action_batch = torch.cat(batch.action)\n",
        "    reward_batch = torch.cat(batch.reward)\n",
        "    \n",
        "    # Compute Q(s_t, a) - the model computes Q(s_t), then we select the\n",
        "    # columns of actions taken. These are the actions which would've been taken\n",
        "    # for each batch state according to policy_net\n",
        "    \n",
        "    # Computes the Q values of the state-action pair\n",
        "    state_action_values = policy_net(state_batch).gather(1, action_batch)\n",
        "    \n",
        "    # Compute V(s_{t+1}) for all next states.\n",
        "    # Expected values of actions for non_final_next_states are computed based\n",
        "    # on the \"older\" target_net; selecting their best reward with max(1)[0].\n",
        "    # This is merged based on the mask, such that we'll have either the expected\n",
        "    \n",
        "    next_state_values = torch.zeros(BATCH_SIZE, device = device)\n",
        "    next_state_values[non_final_mask] = target_net(non_final_next_states).max(1)[0].detach() # predicted using target_net\n",
        "    \n",
        "    # compute the expected Q value \n",
        "    expected_Q_values = (next_state_values * GAMMA) + reward_batch\n",
        "    \n",
        "    # Compute hubert loss (better than L1/L2 loss)\n",
        "    loss = F.smooth_l1_loss(state_action_values, expected_Q_values.unsqueeze(1))\n",
        "    \n",
        "    # update the weights of the model\n",
        "    optimizer.zero_grad() \n",
        "    loss.backward()\n",
        "    for param in policy_net.parameters():\n",
        "        param.grad.data.clamp_(-1, 1)\n",
        "    optimizer.step()\n",
        "\n",
        "        "
      ],
      "execution_count": 0,
      "outputs": []
    },
    {
      "cell_type": "markdown",
      "metadata": {
        "id": "MzTSSeFpf0iw",
        "colab_type": "text"
      },
      "source": [
        "## Training the agent\n",
        "\n",
        "running_reward is the average duration of the last 100 episodes. The game is considered solved when the running_reward is >195\n",
        "\n"
      ]
    },
    {
      "cell_type": "code",
      "metadata": {
        "id": "3uS1d-oTUCTD",
        "colab_type": "code",
        "colab": {
          "base_uri": "https://localhost:8080/",
          "height": 139
        },
        "outputId": "b19aed1e-608c-4177-eb64-0bc21125301f"
      },
      "source": [
        "# n_episodes = 50\n",
        "# for i_episode in range(n_episodes):\n",
        "duration = 10\n",
        "n_episodes = 1\n",
        "running_reward = (duration * 0.99) + (n_episodes * 0.01)\n",
        "\n",
        "while running_reward <195:\n",
        "    n_episodes +=1\n",
        "    env.reset() # initialize and reset the environment\n",
        "    last_screen = get_screen()\n",
        "    current_screen = get_screen()\n",
        "    state = current_screen - last_screen\n",
        "\n",
        "    for t in count():\n",
        "        # perform an action and get a reward\n",
        "        action = select_action(state)\n",
        "        _, reward, done, _ = env.step(action.item())\n",
        "        reward = torch.tensor([reward], device = device)\n",
        "\n",
        "        # observe new state\n",
        "        last_screen = current_screen\n",
        "        current_screen = get_screen()\n",
        "        if not done:\n",
        "            next_state = current_screen - last_screen\n",
        "        else:\n",
        "            next_state = None\n",
        "\n",
        "        # store transition in memory\n",
        "        memory.push(state, action, next_state, reward)\n",
        "\n",
        "        # optimize the policy_network\n",
        "        optimize_model()\n",
        "        if done:\n",
        "            episode_durations.append(t + 1)\n",
        "#             plot_durations()\n",
        "           \n",
        "            break\n",
        "        \n",
        "        \n",
        "    duration = episode_durations[-1]\n",
        "    running_reward = (duration * 0.99) + (n_episodes * 0.01)\n",
        "    \n",
        "    \n",
        "    # update the target network by copyin the policy network\n",
        "    if n_episodes% TARGET_UPDATE == 0 :\n",
        "        target_net.load_state_dict(policy_net.state_dict())\n",
        "        \n",
        "    if n_episodes%500 ==0:\n",
        "        print(running_reward)\n",
        "\n",
        "\n",
        "print(\"Finished\")\n",
        "print(running_reward)\n",
        "env.render()\n",
        "env.close()\n",
        "plt.ioff()\n",
        "plt.show()\n",
        "\n",
        "                "
      ],
      "execution_count": 0,
      "outputs": [
        {
          "output_type": "stream",
          "text": [
            "14.9\n",
            "19.9\n",
            "23.91\n",
            "29.9\n",
            "35.89\n",
            "38.91\n",
            "44.9\n"
          ],
          "name": "stdout"
        }
      ]
    },
    {
      "cell_type": "code",
      "metadata": {
        "id": "l5wYEny1c7j7",
        "colab_type": "code",
        "colab": {}
      },
      "source": [
        ""
      ],
      "execution_count": 0,
      "outputs": []
    }
  ]
}